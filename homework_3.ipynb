{
 "cells": [
  {
   "cell_type": "code",
   "execution_count": 17,
   "metadata": {},
   "outputs": [],
   "source": [
    "import copy\n",
    "import random\n",
    "\n",
    "import matplotlib.pyplot as plt\n",
    "import numpy as np\n",
    "import torch\n",
    "import torch.nn as nn\n",
    "import torch.nn.functional as F\n",
    "import torchvision\n",
    "from scipy.stats import entropy"
   ]
  },
  {
   "cell_type": "markdown",
   "metadata": {},
   "source": [
    "# Assignment 3"
   ]
  },
  {
   "cell_type": "markdown",
   "metadata": {
    "id": "IF2A682ZP3qN"
   },
   "source": [
    "## Generative Adversarial Networks on MNIST"
   ]
  },
  {
   "cell_type": "markdown",
   "metadata": {},
   "source": [
    "In this assignment you will create and train a GAN to generate images of digits that mimic those in the MNIST dataset."
   ]
  },
  {
   "cell_type": "markdown",
   "metadata": {
    "id": "y5EpzTB6P3qO"
   },
   "source": [
    "### Evaluation metric: Inception Score"
   ]
  },
  {
   "cell_type": "markdown",
   "metadata": {
    "id": "a4Gb-AhYP3qO"
   },
   "source": [
    "Rather than just eye-balling whether GAN samples look good or not, researchers have come up with mulitple objective metrics for determining the quality and the diversity of GAN outputs. We will use one of the metrics called the *Inception Score*.\n",
    "\n",
    "Calculating the Inception Score involves running a pretrained neural network. This is where the name is from: the authors who proposed this metric used a pretrained [Inception Network](https://arxiv.org/pdf/1409.4842.pdf) from Tensorflow in their [paper](https://proceedings.neurips.cc/paper/2016/file/8a3363abe792db2d8761d6403605aeb7-Paper.pdf). Since we will be using the MNIST dataset in this assignment, we provide a simpler neural work pretrained on MNIST as the scoring model.\n",
    "\n",
    "The idea behind the Inception Score is simple: a good GAN should generate *meaningful* and *diverse* samples. For MNIST, a specific sample is \"meaningful\" if it looks like any of the 10 digits. When we take a good digit classifier and run it on this sample, it should assign high probability to one of the 10 classes and low probability to the others. In information theory terms, this means the predicted label distribution $p(y|x)$ for any specific sample $x$ should have high entropy. On the other hand, if the generated samples are diverse, they should be able to cover all 10 classes when we generate a large enough set of samples. This means that the \"average\" label distribution $p(y) = \\int p(y|x=G(z)) \\mathrm{d}z$ should have low entropy. The Inception Score is define by $\\exp (\\mathbb{E}_x \\mathrm{KL}(p(y|x) || p(y)))$, where $\\mathrm{KL}(P||Q)$ is the K-L divergence, which is often used to measure how probability distribution $P$ is different from distribution $Q$. Intuitively, if the generated samples are good, $p(y|x)$ should be different from $p(y)$, since one should have high entropy while the other should have low entropy.\n",
    "\n",
    "Don't be too worried if you don't fully get how the score is defined and calculated. Just remember that in this assignment, we want our GAN to have a high Inception Score."
   ]
  },
  {
   "cell_type": "code",
   "execution_count": 18,
   "metadata": {
    "id": "U51Pv7gnP3qO"
   },
   "outputs": [],
   "source": [
    "# Pretrained model used to evaluation the inception score.\n",
    "class ScoringModel(nn.Module):\n",
    "    def __init__(self):\n",
    "        super().__init__()\n",
    "        self.layer1 = nn.Sequential(\n",
    "            nn.Conv2d(1, 32, kernel_size=5, stride=1, padding=2),\n",
    "            nn.ReLU(),\n",
    "            nn.MaxPool2d(kernel_size=2, stride=2))\n",
    "        self.layer2 = nn.Sequential(\n",
    "            nn.Conv2d(32, 64, kernel_size=5, stride=1, padding=2),\n",
    "            nn.ReLU(),\n",
    "            nn.MaxPool2d(kernel_size=2, stride=2))\n",
    "        self.drop_out = nn.Dropout()\n",
    "        self.fc1 = nn.Linear(7 * 7 * 64, 1000)\n",
    "        self.fc2 = nn.Linear(1000, 10)\n",
    "\n",
    "    def forward(self, x):\n",
    "        out = self.layer1(x)\n",
    "        out = self.layer2(out)\n",
    "        out = out.reshape(out.size(0), -1)\n",
    "        out = self.drop_out(out)\n",
    "        out = self.fc1(out)\n",
    "        out = self.fc2(out)\n",
    "        return out\n",
    "\n",
    "    \n",
    "def inception_score_mnist(\n",
    "    imgs,\n",
    "    model_path='weights/mnist.ckpt',\n",
    "    batch_size=32,\n",
    "    num_splits=10,\n",
    "):\n",
    "    \"\"\"Computes the inception score of `imgs`.\n",
    "    \n",
    "    Args:\n",
    "    - imgs: Array of size (number of data points, 1, 28, 28)\n",
    "    - batch_size: Batch size for feeding data into the pretrained MNIST model.\n",
    "    - num_splits: Number of splits. We split the samples into multiple subsets\n",
    "        and calculate the scores on each of them. Their mean is used as the\n",
    "        final score.\n",
    "    \"\"\"\n",
    "    # Verify that input arguments have the correct formats.\n",
    "    assert type(imgs) == np.ndarray\n",
    "    assert imgs.shape[1:] == (1, 28, 28)\n",
    "    assert batch_size > 0\n",
    "    assert len(imgs) > batch_size\n",
    "    \n",
    "    # Choose device to be used.\n",
    "    device = 'cuda:0' if torch.cuda.is_available() else 'cpu'\n",
    "\n",
    "    # Preprocess input.\n",
    "    imgs = copy.copy(imgs)\n",
    "    imgs = (imgs - 0.1307) / 0.3081\n",
    "    \n",
    "    # Set up dataloader.\n",
    "    dataloader = torch.utils.data.DataLoader(imgs, batch_size=batch_size)\n",
    "\n",
    "    # Load pretrained scoring model.\n",
    "    model = ScoringModel()\n",
    "    model.load_state_dict(torch.load(model_path))\n",
    "    model = model.to(device)\n",
    "    model.eval()\n",
    "\n",
    "    # Get predictions.\n",
    "    preds = []\n",
    "    for i, batch in enumerate(dataloader):\n",
    "        batch = batch.to(device)\n",
    "        with torch.no_grad():\n",
    "            logits = model(batch)\n",
    "            probs = F.softmax(logits, dim=1).cpu().numpy()\n",
    "        preds.append(probs)\n",
    "    preds = np.concatenate(preds)\n",
    "\n",
    "    # Compute the mean KL divergence.\n",
    "    split_scores = []\n",
    "\n",
    "    for i in range(num_splits):\n",
    "        n = len(imgs) // num_splits\n",
    "        split = preds[i*n:(i+1)*n, :]\n",
    "        py = np.mean(split, axis=0)\n",
    "        scores = []\n",
    "        for i in range(split.shape[0]):\n",
    "            pyx = split[i, :]\n",
    "            scores.append(entropy(pyx, py))\n",
    "        split_scores.append(np.exp(np.mean(scores)))\n",
    "    \n",
    "    return np.mean(split_scores), np.std(split_scores)"
   ]
  },
  {
   "cell_type": "markdown",
   "metadata": {
    "id": "OsyZJXAOP3qO"
   },
   "source": [
    "Now, let's try to calculate the Inception score on the actual MNIST dataset.\n",
    "\n",
    "Make sure that the provided file `mnist.ckpt` is under `./weights`. Alternatively, you can specify its path via the `model_path` argument of `inception_score_mnist()`. If using Google Colab, click `View > Table of Contents > Files` and then upload it."
   ]
  },
  {
   "cell_type": "code",
   "execution_count": 22,
   "metadata": {
    "id": "JlXCEGNBP3qO"
   },
   "outputs": [
    {
     "name": "stdout",
     "output_type": "stream",
     "text": [
      "Shape of data: (500, 1, 28, 28)\n",
      "Inception Score: mean=8.958, std=0.438\n"
     ]
    }
   ],
   "source": [
    "transform = torchvision.transforms.ToTensor()\n",
    "train_loader = torch.utils.data.DataLoader(\n",
    "    torchvision.datasets.MNIST('./data', train=False, download=True, transform=transform),\n",
    "    batch_size=500, shuffle=True)\n",
    "\n",
    "x, y = next(iter(train_loader))\n",
    "x = x.cpu().data.numpy()\n",
    "x = x.reshape((-1,1,28,28))\n",
    "print('Shape of data:',x.shape)\n",
    "mean, std = inception_score_mnist(x)\n",
    "print(f'Inception Score: mean={mean:.3f}, std={std:.3f}')"
   ]
  },
  {
   "cell_type": "code",
   "execution_count": 24,
   "outputs": [
    {
     "data": {
      "text/plain": "array([[[[0.        , 0.        , 0.        , ..., 0.        ,\n          0.        , 0.        ],\n         [0.        , 0.        , 0.        , ..., 0.        ,\n          0.        , 0.        ],\n         [0.        , 0.        , 0.        , ..., 0.        ,\n          0.        , 0.        ],\n         ...,\n         [0.        , 0.        , 0.        , ..., 0.26666668,\n          0.        , 0.        ],\n         [0.        , 0.        , 0.        , ..., 0.        ,\n          0.        , 0.        ],\n         [0.        , 0.        , 0.        , ..., 0.        ,\n          0.        , 0.        ]]],\n\n\n       [[[0.        , 0.        , 0.        , ..., 0.        ,\n          0.        , 0.        ],\n         [0.        , 0.        , 0.        , ..., 0.        ,\n          0.        , 0.        ],\n         [0.        , 0.        , 0.        , ..., 0.        ,\n          0.        , 0.        ],\n         ...,\n         [0.        , 0.        , 0.        , ..., 0.        ,\n          0.        , 0.        ],\n         [0.        , 0.        , 0.        , ..., 0.        ,\n          0.        , 0.        ],\n         [0.        , 0.        , 0.        , ..., 0.        ,\n          0.        , 0.        ]]],\n\n\n       [[[0.        , 0.        , 0.        , ..., 0.        ,\n          0.        , 0.        ],\n         [0.        , 0.        , 0.        , ..., 0.        ,\n          0.        , 0.        ],\n         [0.        , 0.        , 0.        , ..., 0.        ,\n          0.        , 0.        ],\n         ...,\n         [0.        , 0.        , 0.        , ..., 0.        ,\n          0.        , 0.        ],\n         [0.        , 0.        , 0.        , ..., 0.        ,\n          0.        , 0.        ],\n         [0.        , 0.        , 0.        , ..., 0.        ,\n          0.        , 0.        ]]],\n\n\n       ...,\n\n\n       [[[0.        , 0.        , 0.        , ..., 0.        ,\n          0.        , 0.        ],\n         [0.        , 0.        , 0.        , ..., 0.        ,\n          0.        , 0.        ],\n         [0.        , 0.        , 0.        , ..., 0.        ,\n          0.        , 0.        ],\n         ...,\n         [0.        , 0.        , 0.        , ..., 0.        ,\n          0.        , 0.        ],\n         [0.        , 0.        , 0.        , ..., 0.        ,\n          0.        , 0.        ],\n         [0.        , 0.        , 0.        , ..., 0.        ,\n          0.        , 0.        ]]],\n\n\n       [[[0.        , 0.        , 0.        , ..., 0.        ,\n          0.        , 0.        ],\n         [0.        , 0.        , 0.        , ..., 0.        ,\n          0.        , 0.        ],\n         [0.        , 0.        , 0.        , ..., 0.        ,\n          0.        , 0.        ],\n         ...,\n         [0.        , 0.        , 0.        , ..., 0.        ,\n          0.        , 0.        ],\n         [0.        , 0.        , 0.        , ..., 0.        ,\n          0.        , 0.        ],\n         [0.        , 0.        , 0.        , ..., 0.        ,\n          0.        , 0.        ]]],\n\n\n       [[[0.        , 0.        , 0.        , ..., 0.        ,\n          0.        , 0.        ],\n         [0.        , 0.        , 0.        , ..., 0.        ,\n          0.        , 0.        ],\n         [0.        , 0.        , 0.        , ..., 0.        ,\n          0.        , 0.        ],\n         ...,\n         [0.        , 0.        , 0.        , ..., 0.        ,\n          0.        , 0.        ],\n         [0.        , 0.        , 0.        , ..., 0.        ,\n          0.        , 0.        ],\n         [0.        , 0.        , 0.        , ..., 0.        ,\n          0.        , 0.        ]]]], dtype=float32)"
     },
     "execution_count": 24,
     "metadata": {},
     "output_type": "execute_result"
    }
   ],
   "source": [
    "x"
   ],
   "metadata": {
    "collapsed": false
   }
  },
  {
   "cell_type": "markdown",
   "metadata": {
    "id": "YPpHfMZ_P3qO"
   },
   "source": [
    "The score for the real MNIST dataset should be above 8.\n"
   ]
  },
  {
   "cell_type": "markdown",
   "metadata": {
    "id": "SjoMze3uP3qO"
   },
   "source": [
    "### Generating MNIST images (100 points)\n",
    "\n",
    "As you did with the Gaussian distribution example in the weekly notebook, define and train a GAN to generate images that mimic those in the MNIST dataset.\n",
    "\n",
    "#### Deliverables\n",
    "\n",
    "- After training your model, generate at least 1500 samples using the trained generator, and evaluate your model by calculating the Inception score on the generated samples.\n",
    "- Pick a few generated samples and visualize them.\n",
    "- Plot the training losses for the discriminator and the generator.\n",
    "\n",
    "Given the limited computational resources, you will want to achieve an Inception score of 1.5 or greater for full credits. A score of 1.5 won't yield great images. For nice looking images, you'll need an Inception score of around 6.0, but it is not needed for full credits.\n",
    "\n",
    "#### Model Submission\n",
    "\n",
    "For more complicated architectures, if your model takes a long time to train, you will need to save the model and write a code snippet that loads it such that the code runs with no errors and we can grade it easily. In this case, set `epochs = 0` and include the saved model in your submission (or a Google drive share link if its too large).\n",
    "\n",
    "#### Tips\n",
    "\n",
    "- It will be easier to get better results with a convolutional GAN. You may find this [tutorial](https://pytorch.org/tutorials/beginner/dcgan_faces_tutorial.html) on [DCGAN](https://arxiv.org/pdf/1511.06434.pdf) helpful. The generators of DCGANs make use of transposed convolutions (`nn.ConvTranspose2d` in PyTorch) to map features to larger sizes. This [article](https://d2l.ai/chapter_computer-vision/transposed-conv.html) does a good job illustrating how they work.\n",
    "- Feel free to try different architectures, layers, optimizers, training schemes and other hyperparameters. Particularly, if training with one type of optimizer is slow or unstable, give other types of optimizers a try.\n",
    "\n",
    "There are plenty of online resources about GAN that you can reference for inspiration. But do not plagiarize. Please write your own custom networks."
   ]
  },
  {
   "cell_type": "code",
   "execution_count": 3,
   "outputs": [
    {
     "name": "stdout",
     "output_type": "stream",
     "text": [
      "cpu\n"
     ]
    }
   ],
   "source": [
    "\n",
    "import torch\n",
    "device = 'cuda' if torch.cuda.is_available() else 'cpu'\n",
    "print(device)\n",
    "\n",
    "import numpy as np # linear algebra\n",
    "import pandas as pd # data processing, CSV file I/O (e.g. pd.read_csv)\n",
    "import matplotlib.pyplot as plt\n",
    "import torch.nn as nn\n",
    "import torch.nn.functional as F\n",
    "import torch.optim as optim\n",
    "\n",
    "from torch.utils.data import DataLoader, TensorDataset"
   ],
   "metadata": {
    "collapsed": false
   }
  },
  {
   "cell_type": "code",
   "execution_count": 8,
   "metadata": {},
   "outputs": [],
   "source": [
    "#Loading the training data\n",
    "train = pd.read_csv('data/mnist_csv_format/mnist_train.csv')"
   ]
  },
  {
   "cell_type": "code",
   "execution_count": 9,
   "outputs": [],
   "source": [
    "train_data = train.drop(labels = ['label'], axis = 1)\n",
    "train_data = train_data.values.reshape(-1, 28, 28)\n",
    "train_data = train_data/255.0\n",
    "\n",
    "#To create some space\n",
    "del train"
   ],
   "metadata": {
    "collapsed": false
   }
  },
  {
   "cell_type": "code",
   "execution_count": 10,
   "outputs": [
    {
     "name": "stdout",
     "output_type": "stream",
     "text": [
      "True\n",
      "(60000, 28, 28)\n"
     ]
    }
   ],
   "source": [
    "#Just checking if the data type is as expected\n",
    "print(isinstance(train_data, np.ndarray))\n",
    "\n",
    "#Checking the sanity of the shape of the training data\n",
    "print(train_data.shape)"
   ],
   "metadata": {
    "collapsed": false
   }
  },
  {
   "cell_type": "code",
   "execution_count": 11,
   "outputs": [
    {
     "data": {
      "text/plain": "<matplotlib.image.AxesImage at 0x1c6aa318b80>"
     },
     "execution_count": 11,
     "metadata": {},
     "output_type": "execute_result"
    },
    {
     "data": {
      "text/plain": "<Figure size 432x288 with 1 Axes>",
      "image/png": "[encoded data removed]"
     },
     "metadata": {
      "needs_background": "light"
     },
     "output_type": "display_data"
    }
   ],
   "source": [
    "plt.imshow(train_data[7], cmap = 'gray')"
   ],
   "metadata": {
    "collapsed": false
   }
  },
  {
   "cell_type": "code",
   "execution_count": 12,
   "outputs": [
    {
     "name": "stdout",
     "output_type": "stream",
     "text": [
      "True\n"
     ]
    }
   ],
   "source": [
    "#Converting to torch tensor\n",
    "train_data = torch.Tensor(train_data)\n",
    "\n",
    "#Checking to confirm dtype as tensor\n",
    "print(isinstance(train_data, torch.Tensor))\n",
    "\n",
    "random_seed = 1\n",
    "batch_size = 32\n",
    "train_dl = DataLoader(train_data, batch_size, shuffle = True)"
   ],
   "metadata": {
    "collapsed": false
   }
  },
  {
   "cell_type": "code",
   "execution_count": 13,
   "outputs": [],
   "source": [
    "def random_noise_generator(batch_size, dim):\n",
    "    return torch.rand(batch_size, dim)*2 - 1"
   ],
   "metadata": {
    "collapsed": false
   }
  },
  {
   "cell_type": "code",
   "execution_count": 16,
   "outputs": [
    {
     "data": {
      "text/plain": "<matplotlib.image.AxesImage at 0x1c6aaffd6a0>"
     },
     "execution_count": 16,
     "metadata": {},
     "output_type": "execute_result"
    },
    {
     "data": {
      "text/plain": "<Figure size 432x288 with 1 Axes>",
      "image/png": "[encoded data removed]"
     },
     "metadata": {
      "needs_background": "light"
     },
     "output_type": "display_data"
    }
   ],
   "source": [
    "#Just checking the noise generator and plotting one of its outputs\n",
    "a = random_noise_generator(64, 100)\n",
    "b = a[2]\n",
    "b = b.reshape(10, 10)\n",
    "b = b.numpy()\n",
    "plt.imshow(b, cmap = 'gray')"
   ],
   "metadata": {
    "collapsed": false
   }
  },
  {
   "cell_type": "code",
   "execution_count": 17,
   "outputs": [],
   "source": [
    "class Discriminator(nn.Module):\n",
    "\n",
    "    def __init__(self):\n",
    "        super().__init__()\n",
    "        self.conv0 = nn.Conv2d(1, 32, kernel_size = 3, stride = 2, padding = 1)\n",
    "        #self.conv0_bn = nn.BatchNorm2d(32)\n",
    "        self.conv0_drop = nn.Dropout2d(0.25)\n",
    "        self.conv1 = nn.Conv2d(32, 64, kernel_size = 3, stride = 1, padding = 1)\n",
    "        #self.conv1_bn = nn.BatchNorm2d(64)\n",
    "        self.conv1_drop = nn.Dropout2d(0.25)\n",
    "        self.conv2 = nn.Conv2d(64, 128, kernel_size = 3, stride = 1, padding = 1)\n",
    "        #self.conv2_bn = nn.BatchNorm2d(128)\n",
    "        self.conv2_drop = nn.Dropout2d(0.25)\n",
    "        self.conv3 = nn.Conv2d(128, 256, kernel_size = 3, stride = 2, padding = 1)\n",
    "        #self.conv3_bn = nn.BatchNorm2d(256)\n",
    "        self.conv3_drop = nn.Dropout2d(0.25)\n",
    "        self.fc = nn.Linear(12544, 1)\n",
    "\n",
    "    def forward(self, x):\n",
    "        x = x.view(-1, 1, 28, 28)\n",
    "        x = F.leaky_relu(self.conv0(x), 0.2)\n",
    "        #x = self.conv0_bn(x)\n",
    "        x = self.conv0_drop(x)\n",
    "        x = F.leaky_relu(self.conv1(x), 0.2)\n",
    "        #x = self.conv1_bn(x)\n",
    "        x = self.conv1_drop(x)\n",
    "        x = F.leaky_relu(self.conv2(x), 0.2)\n",
    "        #x = self.conv2_bn(x)\n",
    "        x = self.conv2_drop(x)\n",
    "        x = F.leaky_relu(self.conv3(x), 0.2)\n",
    "        #x = self.conv3_bn(x)\n",
    "        x = self.conv3_drop(x)\n",
    "        x = x.view(-1, self.num_flat_features(x))\n",
    "        x = self.fc(x)\n",
    "\n",
    "        return x\n",
    "\n",
    "    def num_flat_features(self, x):\n",
    "        size = x.size()[1:]\n",
    "        num_features = 1\n",
    "        for s in size:\n",
    "            num_features *= s\n",
    "\n",
    "        return num_features"
   ],
   "metadata": {
    "collapsed": false
   }
  },
  {
   "cell_type": "code",
   "execution_count": 18,
   "outputs": [],
   "source": [
    "class Generator(nn.Module):\n",
    "\n",
    "    def __init__(self):\n",
    "        super().__init__()\n",
    "        self.fc = nn.Linear(100, 256*7*7)\n",
    "        self.trans_conv1 = nn.ConvTranspose2d(256, 128, kernel_size = 3, stride = 2, padding = 1, output_padding = 1)\n",
    "        #self.trans_conv1_bn = nn.BatchNorm2d(128)\n",
    "        self.trans_conv2 = nn.ConvTranspose2d(128, 64, kernel_size = 3, stride = 1, padding = 1)\n",
    "        #self.trans_conv2_bn = nn.BatchNorm2d(64)\n",
    "        self.trans_conv3 = nn.ConvTranspose2d(64, 32, kernel_size = 3, stride = 1, padding = 1)\n",
    "        #self.trans_conv3_bn = nn.BatchNorm2d(32)\n",
    "        self.trans_conv4 = nn.ConvTranspose2d(32, 1, kernel_size = 3, stride = 2, padding = 1, output_padding = 1)\n",
    "\n",
    "    def forward(self, x):\n",
    "        x = self.fc(x)\n",
    "        x = x.view(-1, 256, 7, 7)\n",
    "        x = F.relu(self.trans_conv1(x))\n",
    "        #x = self.trans_conv1_bn(x)\n",
    "        x = F.relu(self.trans_conv2(x))\n",
    "        #x = self.trans_conv2_bn(x)\n",
    "        x = F.relu(self.trans_conv3(x))\n",
    "        #x = self.trans_conv3_bn(x)\n",
    "        x = self.trans_conv4(x)\n",
    "        x = torch.tanh(x)\n",
    "\n",
    "        return x"
   ],
   "metadata": {
    "collapsed": false
   }
  },
  {
   "cell_type": "code",
   "execution_count": 20,
   "outputs": [
    {
     "name": "stdout",
     "output_type": "stream",
     "text": [
      "Discriminator(\n",
      "  (conv0): Conv2d(1, 32, kernel_size=(3, 3), stride=(2, 2), padding=(1, 1))\n",
      "  (conv0_drop): Dropout2d(p=0.25, inplace=False)\n",
      "  (conv1): Conv2d(32, 64, kernel_size=(3, 3), stride=(1, 1), padding=(1, 1))\n",
      "  (conv1_drop): Dropout2d(p=0.25, inplace=False)\n",
      "  (conv2): Conv2d(64, 128, kernel_size=(3, 3), stride=(1, 1), padding=(1, 1))\n",
      "  (conv2_drop): Dropout2d(p=0.25, inplace=False)\n",
      "  (conv3): Conv2d(128, 256, kernel_size=(3, 3), stride=(2, 2), padding=(1, 1))\n",
      "  (conv3_drop): Dropout2d(p=0.25, inplace=False)\n",
      "  (fc): Linear(in_features=12544, out_features=1, bias=True)\n",
      ")\n",
      "Generator(\n",
      "  (fc): Linear(in_features=100, out_features=12544, bias=True)\n",
      "  (trans_conv1): ConvTranspose2d(256, 128, kernel_size=(3, 3), stride=(2, 2), padding=(1, 1), output_padding=(1, 1))\n",
      "  (trans_conv2): ConvTranspose2d(128, 64, kernel_size=(3, 3), stride=(1, 1), padding=(1, 1))\n",
      "  (trans_conv3): ConvTranspose2d(64, 32, kernel_size=(3, 3), stride=(1, 1), padding=(1, 1))\n",
      "  (trans_conv4): ConvTranspose2d(32, 1, kernel_size=(3, 3), stride=(2, 2), padding=(1, 1), output_padding=(1, 1))\n",
      ")\n"
     ]
    }
   ],
   "source": [
    "D = Discriminator()\n",
    "G = Generator()\n",
    "\n",
    "print(D)\n",
    "print(G)\n",
    "\n",
    "#Passing to the GPU\n",
    "D = D.to(device)\n",
    "G = G.to(device)\n",
    "\n",
    "D = D.float()\n",
    "G = G.float()"
   ],
   "metadata": {
    "collapsed": false
   }
  },
  {
   "cell_type": "code",
   "execution_count": 21,
   "outputs": [],
   "source": [
    "Loss = nn.BCEWithLogitsLoss()\n",
    "def discriminator_real_loss(real_out):\n",
    "    real_label = torch.ones(real_out.size()[0], 1).to(device)\n",
    "    real_loss = Loss(real_out.squeeze(), real_label.squeeze())\n",
    "    return real_loss\n",
    "\n",
    "def discriminator_fake_loss(fake_out):\n",
    "    fake_label = torch.zeros(fake_out.size()[0], 1).to(device)\n",
    "    fake_loss = Loss(fake_out.squeeze(), fake_label.squeeze())\n",
    "    return fake_loss\n",
    "\n",
    "def discriminator_loss(real_out, fake_out):\n",
    "    real_loss = discriminator_real_loss(real_out)\n",
    "    fake_loss = discriminator_fake_loss(fake_out)\n",
    "    total_loss = (real_loss + fake_loss)\n",
    "    return total_loss"
   ],
   "metadata": {
    "collapsed": false
   }
  },
  {
   "cell_type": "code",
   "execution_count": 22,
   "outputs": [],
   "source": [
    "def generator_loss(gen_disc_out):\n",
    "    label = torch.ones(gen_disc_out.size()[0], 1).to(device)\n",
    "    gen_loss = Loss(gen_disc_out.squeeze(), label.squeeze())\n",
    "    return gen_loss"
   ],
   "metadata": {
    "collapsed": false
   }
  },
  {
   "cell_type": "code",
   "execution_count": 23,
   "outputs": [],
   "source": [
    "disc_opt = optim.Adam(D.parameters(), lr = 0.0002, betas = (0.5, 0.999))\n",
    "gen_opt = optim.Adam(G.parameters(), lr = 0.0002, betas = (0.5, 0.999))"
   ],
   "metadata": {
    "collapsed": false
   }
  },
  {
   "cell_type": "code",
   "execution_count": 25,
   "outputs": [],
   "source": [
    "def train(D, G, disc_opt, gen_opt, train_dl, batch_size = 32, epochs = 25, gen_input_size = 100):\n",
    "\n",
    "    disc_losses = []\n",
    "    gen_losses = []\n",
    "\n",
    "    #Having a fixed sample to monitor the progress of the generator\n",
    "    sample_size = 16\n",
    "    fixed_samples = random_noise_generator(sample_size, gen_input_size)\n",
    "    fixed_samples = fixed_samples.to(device)\n",
    "\n",
    "    #Going into training mode\n",
    "    D.train()\n",
    "    G.train()\n",
    "\n",
    "    for epoch in range(epochs + 1):\n",
    "\n",
    "        disc_loss_total = 0\n",
    "        gen_loss_total = 0\n",
    "        gen_out = 0\n",
    "\n",
    "        for train_x in train_dl:\n",
    "\n",
    "            #Discriminator training\n",
    "            disc_opt.zero_grad()\n",
    "\n",
    "            train_x = train_x*2 - 1          #Converting the real images to have values between -1 and 1\n",
    "            train_x = train_x.to(device)     #Passing to GPU\n",
    "            real_out = D(train_x.float())\n",
    "\n",
    "            disc_gen_in = random_noise_generator(batch_size, gen_input_size)\n",
    "            disc_gen_in = disc_gen_in.to(device)   #Passing to GPU\n",
    "\n",
    "            disc_gen_out = G(disc_gen_in.float()).detach()  #Detaching to avoid training the generator\n",
    "            fake_out = D(disc_gen_out.float())\n",
    "\n",
    "            disc_loss = discriminator_loss(real_out, fake_out)  #Loss calculation\n",
    "            disc_loss_total += disc_loss\n",
    "            disc_loss.backward()\n",
    "            disc_opt.step()\n",
    "\n",
    "            #Generator training\n",
    "            gen_opt.zero_grad()\n",
    "\n",
    "\n",
    "            gen_out = G(disc_gen_in.float())     #Feeding noise into the generator\n",
    "            gen_disc_out = D(gen_out.float())       #Passing into the discrminator\n",
    "\n",
    "            gen_loss = generator_loss(gen_disc_out)  #Generator loss calculation\n",
    "            gen_loss_total += gen_loss\n",
    "            gen_loss.backward()\n",
    "            gen_opt.step()\n",
    "\n",
    "        disc_losses.append(disc_loss_total)\n",
    "        gen_losses.append(gen_loss_total)\n",
    "\n",
    "        #Plotting samples every 5 epochs\n",
    "        if epoch%5 == 0:\n",
    "            G.eval()                    #Going into eval mode to get sample images\n",
    "            samples = G(fixed_samples.float())\n",
    "            G.train()                   #Going back into train mode\n",
    "\n",
    "            fig, axes = plt.subplots(figsize=(7,7), nrows=4, ncols=4, sharey=True, sharex=True)\n",
    "            for ax, img in zip(axes.flatten(), samples):\n",
    "               img = img.cpu().detach()\n",
    "               ax.xaxis.set_visible(False)\n",
    "               ax.yaxis.set_visible(False)\n",
    "               im = ax.imshow(img.reshape((28,28)), cmap='Greys_r')\n",
    "\n",
    "\n",
    "        #Printing losses every epoch\n",
    "        print(\"Epoch \", epoch, \": Discriminator Loss = \", disc_loss_total/len(train_dl), \", Generator Loss = \", gen_loss_total/len(train_dl))\n",
    "\n",
    "    return disc_losses, gen_losses"
   ],
   "metadata": {
    "collapsed": false
   }
  },
  {
   "cell_type": "code",
   "execution_count": null,
   "outputs": [],
   "source": [
    "disc_losses, gen_losses = train(D, G, disc_opt, gen_opt, train_dl, batch_size)"
   ],
   "metadata": {
    "collapsed": false,
    "pycharm": {
     "is_executing": true
    }
   }
  },
  {
   "cell_type": "code",
   "execution_count": null,
   "outputs": [],
   "source": [],
   "metadata": {
    "collapsed": false
   }
  }
 ],
 "metadata": {
  "accelerator": "GPU",
  "colab": {
   "collapsed_sections": [],
   "name": " GAN_lab.ipynb",
   "provenance": []
  },
  "kernelspec": {
   "display_name": "Python 3 (ipykernel)",
   "language": "python",
   "name": "python3"
  },
  "language_info": {
   "codemirror_mode": {
    "name": "ipython",
    "version": 3
   },
   "file_extension": ".py",
   "mimetype": "text/x-python",
   "name": "python",
   "nbconvert_exporter": "python",
   "pygments_lexer": "ipython3",
   "version": "3.8.13"
  }
 },
 "nbformat": 4,
 "nbformat_minor": 4
}
